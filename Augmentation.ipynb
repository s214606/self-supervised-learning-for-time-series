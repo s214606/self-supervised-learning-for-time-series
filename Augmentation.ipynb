{
 "cells": [
  {
   "attachments": {},
   "cell_type": "markdown",
   "metadata": {},
   "source": [
    "## Agumentation of sampled data points"
   ]
  }
 ],
 "metadata": {
  "kernelspec": {
   "display_name": "Python 3",
   "language": "python",
   "name": "python3"
  },
  "language_info": {
   "name": "python",
   "version": "3.11.1"
  },
  "orig_nbformat": 4,
  "vscode": {
   "interpreter": {
    "hash": "65a239601717d187fb522e4008d40f83da3046f4a62f35d871395fc6188926de"
   }
  }
 },
 "nbformat": 4,
 "nbformat_minor": 2
}
